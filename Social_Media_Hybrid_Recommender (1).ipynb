{
  "nbformat": 4,
  "nbformat_minor": 0,
  "metadata": {
    "colab": {
      "provenance": []
    },
    "kernelspec": {
      "name": "python3",
      "display_name": "Python 3"
    },
    "language_info": {
      "name": "python"
    }
  },
  "cells": [
    {
      "cell_type": "markdown",
      "source": [
        "# Social Media Hybrid Recommender\n",
        "\n",
        "\n"
      ],
      "metadata": {
        "id": "Wc0pcsep17O5"
      }
    },
    {
      "cell_type": "markdown",
      "source": [
        "1 — Imports & setup"
      ],
      "metadata": {
        "id": "zWB3t2KF2Akr"
      }
    },
    {
      "cell_type": "code",
      "source": [
        "\n",
        "import random\n",
        "import numpy as np\n",
        "import pandas as pd\n",
        "from sklearn.feature_extraction.text import TfidfVectorizer\n",
        "from sklearn.preprocessing import OneHotEncoder, normalize\n",
        "from sklearn.metrics.pairwise import cosine_similarity\n",
        "from sklearn.decomposition import TruncatedSVD\n",
        "import matplotlib.pyplot as plt\n",
        "from scipy.sparse import csr_matrix\n",
        "import warnings\n",
        "warnings.filterwarnings(\"ignore\")\n",
        "SEED = 42\n",
        "random.seed(SEED)\n",
        "np.random.seed(SEED)\n"
      ],
      "metadata": {
        "id": "5neR8dTb2B6y"
      },
      "execution_count": 1,
      "outputs": []
    },
    {
      "cell_type": "markdown",
      "source": [
        "2 — Synthetic dataset generator (posts + users + ratings)"
      ],
      "metadata": {
        "id": "t0jtpkXD2H45"
      }
    },
    {
      "cell_type": "code",
      "source": [
        "\n",
        "def generate_synthetic_social_data(n_users=300, n_posts=800):\n",
        "    platforms = ['YouTube','Instagram','X','Snapchat','Facebook']\n",
        "    topics = ['tech','travel','food','sports','fashion','music','education']\n",
        "    posts = []\n",
        "    for pid in range(n_posts):\n",
        "        plat = random.choice(platforms)\n",
        "        topic = random.choice(topics)\n",
        "        title = f\"{plat} {topic} post {pid}\"\n",
        "        hashtags = \" \".join([f\"#{topic}\", f\"#{plat.lower()}\"])\n",
        "        caption = f\"{title} {hashtags}\"\n",
        "        posts.append({'post_id': pid, 'platform': plat, 'topic': topic, 'title': title, 'text': caption})\n",
        "    posts_df = pd.DataFrame(posts)\n",
        "\n",
        "    # users and ratings: sparse interactions\n",
        "    interactions = []\n",
        "    for uid in range(n_users):\n",
        "        # each user interacts with 30-80 posts\n",
        "        k = random.randint(30, 80)\n",
        "        liked_posts = np.random.choice(n_posts, size=k, replace=False)\n",
        "        # rating distribution biased by topic preference\n",
        "        pref_topic = random.choice(topics)\n",
        "        for pid in liked_posts:\n",
        "            base = 3.0 + np.random.randn()*0.7  # base rating around 3\n",
        "            if posts_df.loc[pid, 'topic'] == pref_topic:\n",
        "                base += abs(np.random.randn()) * 1.2\n",
        "            rating = min(5.0, max(1.0, round(base, 1)))\n",
        "            interactions.append({'user_id': uid, 'post_id': pid, 'rating': rating})\n",
        "    ratings_df = pd.DataFrame(interactions)\n",
        "    return posts_df, ratings_df\n",
        "\n",
        "posts_df, ratings_df = generate_synthetic_social_data()\n",
        "print(\"posts:\", posts_df.shape, \"ratings:\", ratings_df.shape)\n"
      ],
      "metadata": {
        "colab": {
          "base_uri": "https://localhost:8080/"
        },
        "id": "t20blj3R2IZR",
        "outputId": "6d65481c-32f2-4296-839a-4444dc1f35ea"
      },
      "execution_count": 2,
      "outputs": [
        {
          "output_type": "stream",
          "name": "stdout",
          "text": [
            "posts: (800, 5) ratings: (16552, 3)\n"
          ]
        }
      ]
    },
    {
      "cell_type": "markdown",
      "source": [
        "3 — Build user-item rating matrix (sparse)"
      ],
      "metadata": {
        "id": "W4WvK-XV2MNR"
      }
    },
    {
      "cell_type": "code",
      "source": [
        "\n",
        "def build_rating_matrix(ratings, n_users=None, n_items=None):\n",
        "    if n_users is None:\n",
        "        n_users = ratings['user_id'].max()+1\n",
        "    if n_items is None:\n",
        "        n_items = ratings['post_id'].max()+1\n",
        "    rows = ratings['user_id'].values\n",
        "    cols = ratings['post_id'].values\n",
        "    data = ratings['rating'].values\n",
        "    mat = csr_matrix((data, (rows, cols)), shape=(n_users, n_items))\n",
        "    return mat\n",
        "\n",
        "R = build_rating_matrix(ratings_df)\n",
        "print(\"Rating matrix shape:\", R.shape)\n"
      ],
      "metadata": {
        "colab": {
          "base_uri": "https://localhost:8080/"
        },
        "id": "ENMmYlh02MlB",
        "outputId": "41d4c2c2-537e-458c-be9f-6b15d1a83c91"
      },
      "execution_count": 3,
      "outputs": [
        {
          "output_type": "stream",
          "name": "stdout",
          "text": [
            "Rating matrix shape: (300, 800)\n"
          ]
        }
      ]
    },
    {
      "cell_type": "markdown",
      "source": [
        " 4 — Collaborative Filtering via TruncatedSVD (matrix factorization approximation)"
      ],
      "metadata": {
        "id": "ApniZ1E92PqS"
      }
    },
    {
      "cell_type": "code",
      "source": [
        "\n",
        "def train_svd_cf(R_csr, n_components=50):\n",
        "    # Convert to dense-ish representation for SVD input: fill zeros with user mean to reduce sparsity bias\n",
        "    R_dense = R_csr.toarray()\n",
        "    user_means = np.where(R_dense.sum(axis=1)!=0, R_dense.sum(axis=1)/(R_dense!=0).sum(axis=1), 0)\n",
        "    R_centered = R_dense - user_means.reshape(-1,1)\n",
        "    svd = TruncatedSVD(n_components=n_components, random_state=SEED)\n",
        "    user_factors = svd.fit_transform(R_centered)    # U * Sigma\n",
        "    item_factors = svd.components_.T                 # V\n",
        "    return svd, user_factors, item_factors, user_means\n",
        "\n",
        "svd_model, U_factors, V_factors, user_means = train_svd_cf(R, n_components=50)\n",
        "print(\"User factors:\", U_factors.shape, \"Item factors:\", V_factors.shape)\n"
      ],
      "metadata": {
        "colab": {
          "base_uri": "https://localhost:8080/"
        },
        "id": "Lh3KM0VR2Qei",
        "outputId": "6a8ab3a6-ea9a-4c37-ac45-3d11532145ef"
      },
      "execution_count": 4,
      "outputs": [
        {
          "output_type": "stream",
          "name": "stdout",
          "text": [
            "User factors: (300, 50) Item factors: (800, 50)\n"
          ]
        }
      ]
    },
    {
      "cell_type": "markdown",
      "source": [
        "5 — CF predict function"
      ],
      "metadata": {
        "id": "6ReO6M1Y2T0C"
      }
    },
    {
      "cell_type": "code",
      "source": [
        "\n",
        "def cf_predict_scores(user_id, U, V, user_means):\n",
        "    preds = U[user_id].dot(V.T) + user_means[user_id]\n",
        "    return preds  # array of length n_items\n"
      ],
      "metadata": {
        "id": "8PZ-qxav2ULK"
      },
      "execution_count": 5,
      "outputs": []
    },
    {
      "cell_type": "markdown",
      "source": [
        "6 — Content-based item embeddings (TF-IDF + one-hot metadata)"
      ],
      "metadata": {
        "id": "ftCjHKxM2WeJ"
      }
    },
    {
      "cell_type": "code",
      "source": [
        "# Cell 6 — Content-based item embeddings (TF-IDF + one-hot metadata) [FIXED for sklearn >=1.4]\n",
        "def build_item_content_embeddings(posts_df, tfidf_max_features=2000):\n",
        "    # textual TF-IDF on \"text\" column\n",
        "    tfidf = TfidfVectorizer(max_features=tfidf_max_features, stop_words='english')\n",
        "    tfidf_mat = tfidf.fit_transform(posts_df['text'].fillna(''))\n",
        "\n",
        "    # one-hot encode platform & topic\n",
        "    try:\n",
        "        ohe = OneHotEncoder(sparse_output=False)  # ✅ for new sklearn versions\n",
        "    except TypeError:\n",
        "        ohe = OneHotEncoder(sparse=False)         # fallback for older sklearn\n",
        "\n",
        "    meta = ohe.fit_transform(posts_df[['platform', 'topic']])\n",
        "\n",
        "    # combine and normalize\n",
        "    from scipy.sparse import hstack\n",
        "    combined = hstack([tfidf_mat, csr_matrix(meta)])\n",
        "    combined = normalize(combined, norm='l2', axis=1)\n",
        "    return combined, tfidf, ohe\n",
        "\n",
        "item_embeddings, tfidf_vec, meta_ohe = build_item_content_embeddings(posts_df)\n",
        "print(\"Item embeddings shape:\", item_embeddings.shape)\n"
      ],
      "metadata": {
        "colab": {
          "base_uri": "https://localhost:8080/"
        },
        "id": "5mk7ix0B2W2z",
        "outputId": "e26e182c-1ecb-433b-c397-d2662d8e6940"
      },
      "execution_count": 8,
      "outputs": [
        {
          "output_type": "stream",
          "name": "stdout",
          "text": [
            "Item embeddings shape: (800, 814)\n"
          ]
        }
      ]
    },
    {
      "cell_type": "markdown",
      "source": [
        " 7 — Build user content profile (average of items user liked with rating >= threshold)"
      ],
      "metadata": {
        "id": "fF40e9-v2uWB"
      }
    },
    {
      "cell_type": "code",
      "source": [
        "\n",
        "def user_profile_from_history(user_id, ratings_df, item_embeddings, rating_threshold=4.0):\n",
        "    liked = ratings_df[(ratings_df['user_id']==user_id) & (ratings_df['rating']>=rating_threshold)]['post_id'].values\n",
        "    if len(liked)==0:\n",
        "        # fallback: average all items\n",
        "        profile = np.array(item_embeddings.mean(axis=0)).ravel()\n",
        "    else:\n",
        "        profile = np.array(item_embeddings[liked].mean(axis=0)).ravel()\n",
        "    return profile\n",
        "\n",
        "# Quick check\n",
        "profile = user_profile_from_history(0, ratings_df, item_embeddings)\n",
        "print(\"Profile length:\", profile.shape)\n"
      ],
      "metadata": {
        "colab": {
          "base_uri": "https://localhost:8080/"
        },
        "id": "dD3AZXNJ2uuJ",
        "outputId": "9258eecb-4ac0-491f-b219-137207e33721"
      },
      "execution_count": 9,
      "outputs": [
        {
          "output_type": "stream",
          "name": "stdout",
          "text": [
            "Profile length: (814,)\n"
          ]
        }
      ]
    },
    {
      "cell_type": "markdown",
      "source": [
        " 8 — Recommendation function (CF + CBF hybrid)"
      ],
      "metadata": {
        "id": "bhnUTsdQ2wNo"
      }
    },
    {
      "cell_type": "code",
      "source": [
        "# Cell 8 — Recommendation function (CF + CBF hybrid)\n",
        "def get_hybrid_recommendations(user_id, top_k=10, alpha=0.6):\n",
        "    # CF scores\n",
        "    cf_scores = cf_predict_scores(user_id, U_factors, V_factors, user_means)\n",
        "    # CBF scores: cosine similarity between user profile and all item embeddings\n",
        "    profile = user_profile_from_history(user_id, ratings_df, item_embeddings)\n",
        "    cbf_scores = cosine_similarity(profile.reshape(1,-1), item_embeddings).ravel()\n",
        "    # normalize both\n",
        "    cf_norm = (cf_scores - cf_scores.min()) / (cf_scores.max() - cf_scores.min() + 1e-8)\n",
        "    cbf_norm = (cbf_scores - cbf_scores.min()) / (cbf_scores.max() - cbf_scores.min() + 1e-8)\n",
        "    hybrid = alpha * cf_norm + (1-alpha) * cbf_norm\n",
        "    # filter out already rated items\n",
        "    seen = set(ratings_df[ratings_df['user_id']==user_id]['post_id'].tolist())\n",
        "    candidates = [(i, hybrid[i]) for i in range(len(hybrid)) if i not in seen]\n",
        "    candidates = sorted(candidates, key=lambda x: x[1], reverse=True)[:top_k]\n",
        "    recs = pd.DataFrame([{'post_id': pid, 'score': score} for pid, score in candidates])\n",
        "    recs = recs.merge(posts_df, on='post_id', how='left')\n",
        "    return recs\n",
        "\n",
        "# Example\n",
        "print(get_hybrid_recommendations(user_id=5, top_k=8, alpha=0.6))\n"
      ],
      "metadata": {
        "colab": {
          "base_uri": "https://localhost:8080/"
        },
        "id": "iujB9T-P2xxx",
        "outputId": "3bf8d362-bc1d-4a2d-b86f-26f65d83b10c"
      },
      "execution_count": 10,
      "outputs": [
        {
          "output_type": "stream",
          "name": "stdout",
          "text": [
            "   post_id     score  platform   topic                     title  \\\n",
            "0      426  0.753248         X  travel         X travel post 426   \n",
            "1      391  0.724388   YouTube    food     YouTube food post 391   \n",
            "2      304  0.723625  Facebook  travel  Facebook travel post 304   \n",
            "3      529  0.722759   YouTube  travel   YouTube travel post 529   \n",
            "4      334  0.721518   YouTube  travel   YouTube travel post 334   \n",
            "5      179  0.716249         X  travel         X travel post 179   \n",
            "6       47  0.711320  Facebook  travel   Facebook travel post 47   \n",
            "7        1  0.710437         X  travel           X travel post 1   \n",
            "\n",
            "                                         text  \n",
            "0                X travel post 426 #travel #x  \n",
            "1        YouTube food post 391 #food #youtube  \n",
            "2  Facebook travel post 304 #travel #facebook  \n",
            "3    YouTube travel post 529 #travel #youtube  \n",
            "4    YouTube travel post 334 #travel #youtube  \n",
            "5                X travel post 179 #travel #x  \n",
            "6   Facebook travel post 47 #travel #facebook  \n",
            "7                  X travel post 1 #travel #x  \n"
          ]
        }
      ]
    },
    {
      "cell_type": "markdown",
      "source": [
        "9 — Simple visualizations: ratings distribution & top-10 recommended platforms"
      ],
      "metadata": {
        "id": "Yo2MvIft2z5Y"
      }
    },
    {
      "cell_type": "code",
      "source": [
        "\n",
        "def plot_ratings_distribution(ratings_df):\n",
        "    plt.figure(figsize=(6,4))\n",
        "    ratings_df['rating'].hist(bins=9)\n",
        "    plt.title(\"Ratings distribution\")\n",
        "    plt.xlabel(\"Rating\"); plt.ylabel(\"Count\")\n",
        "    plt.show()\n",
        "\n",
        "plot_ratings_distribution(ratings_df)\n",
        "\n",
        "# visualize top platforms in recommendations for a sample user\n",
        "recs = get_hybrid_recommendations(5, top_k=10)\n",
        "plt.figure(figsize=(6,3))\n",
        "recs['platform'].value_counts().plot(kind='bar')\n",
        "plt.title(\"Platforms in Top-10 recommendations (user 5)\")\n",
        "plt.show()\n"
      ],
      "metadata": {
        "colab": {
          "base_uri": "https://localhost:8080/",
          "height": 778
        },
        "id": "F6IjVg5v22XI",
        "outputId": "9d8f0e4e-335b-408c-864c-c233a9ad4ee2"
      },
      "execution_count": 11,
      "outputs": [
        {
          "output_type": "display_data",
          "data": {
            "text/plain": [
              "<Figure size 600x400 with 1 Axes>"
            ],
            "image/png": "[encoded data removed]"
          },
          "metadata": {}
        },
        {
          "output_type": "display_data",
          "data": {
            "text/plain": [
              "<Figure size 600x300 with 1 Axes>"
            ],
            "image/png": "[encoded data removed]"
          },
          "metadata": {}
        }
      ]
    }
  ]
}